{
 "cells": [
  {
   "cell_type": "code",
   "execution_count": 1,
   "metadata": {},
   "outputs": [],
   "source": [
    "import pandas as pd\n",
    "import numpy as np\n",
    "import datetime\n",
    "from datetime import datetime\n",
    "%matplotlib inline"
   ]
  },
  {
   "cell_type": "code",
   "execution_count": 10,
   "metadata": {},
   "outputs": [],
   "source": [
    "bit_df = pd.read_csv('D:\\\\загрузка\\\\bitcoin_20170101_20180301')"
   ]
  },
  {
   "cell_type": "code",
   "execution_count": 11,
   "metadata": {},
   "outputs": [],
   "source": [
    "date_ex = bit_df['date'][0]"
   ]
  },
  {
   "cell_type": "code",
   "execution_count": 12,
   "metadata": {},
   "outputs": [
    {
     "data": {
      "text/plain": [
       "'28 февр.'"
      ]
     },
     "execution_count": 12,
     "metadata": {},
     "output_type": "execute_result"
    }
   ],
   "source": [
    "bit_df.date[0]"
   ]
  },
  {
   "cell_type": "code",
   "execution_count": 13,
   "metadata": {},
   "outputs": [
    {
     "data": {
      "text/html": [
       "<div>\n",
       "<style>\n",
       "    .dataframe thead tr:only-child th {\n",
       "        text-align: right;\n",
       "    }\n",
       "\n",
       "    .dataframe thead th {\n",
       "        text-align: left;\n",
       "    }\n",
       "\n",
       "    .dataframe tbody tr th {\n",
       "        vertical-align: top;\n",
       "    }\n",
       "</style>\n",
       "<table border=\"1\" class=\"dataframe\">\n",
       "  <thead>\n",
       "    <tr style=\"text-align: right;\">\n",
       "      <th></th>\n",
       "      <th>Unnamed: 0</th>\n",
       "      <th>index</th>\n",
       "      <th>tweet</th>\n",
       "      <th>date</th>\n",
       "    </tr>\n",
       "  </thead>\n",
       "  <tbody>\n",
       "    <tr>\n",
       "      <th>66065</th>\n",
       "      <td>66065</td>\n",
       "      <td>9756</td>\n",
       "      <td>There are currently 125,769 unconfirmed Bitcoi...</td>\n",
       "      <td>20 дек. 2017 г.</td>\n",
       "    </tr>\n",
       "    <tr>\n",
       "      <th>66066</th>\n",
       "      <td>66066</td>\n",
       "      <td>9757</td>\n",
       "      <td>BitcoinAverage - bitcoin price index - ($ 1648...</td>\n",
       "      <td>20 дек. 2017 г.</td>\n",
       "    </tr>\n",
       "    <tr>\n",
       "      <th>66067</th>\n",
       "      <td>66067</td>\n",
       "      <td>9758</td>\n",
       "      <td>The difference between #Bitcoin and #Ethereum ...</td>\n",
       "      <td>20 дек. 2017 г.</td>\n",
       "    </tr>\n",
       "    <tr>\n",
       "      <th>66068</th>\n",
       "      <td>66068</td>\n",
       "      <td>9759</td>\n",
       "      <td>Bitcoin - BTC\\r\\nPrice: $16,624.60\\r\\nChange i...</td>\n",
       "      <td>20 дек. 2017 г.</td>\n",
       "    </tr>\n",
       "    <tr>\n",
       "      <th>66069</th>\n",
       "      <td>66069</td>\n",
       "      <td>9760</td>\n",
       "      <td>#Bitcoin may not work out, but there’s a decen...</td>\n",
       "      <td>20 дек. 2017 г.</td>\n",
       "    </tr>\n",
       "  </tbody>\n",
       "</table>\n",
       "</div>"
      ],
      "text/plain": [
       "       Unnamed: 0  index                                              tweet  \\\n",
       "66065       66065   9756  There are currently 125,769 unconfirmed Bitcoi...   \n",
       "66066       66066   9757  BitcoinAverage - bitcoin price index - ($ 1648...   \n",
       "66067       66067   9758  The difference between #Bitcoin and #Ethereum ...   \n",
       "66068       66068   9759  Bitcoin - BTC\\r\\nPrice: $16,624.60\\r\\nChange i...   \n",
       "66069       66069   9760  #Bitcoin may not work out, but there’s a decen...   \n",
       "\n",
       "                  date  \n",
       "66065  20 дек. 2017 г.  \n",
       "66066  20 дек. 2017 г.  \n",
       "66067  20 дек. 2017 г.  \n",
       "66068  20 дек. 2017 г.  \n",
       "66069  20 дек. 2017 г.  "
      ]
     },
     "execution_count": 13,
     "metadata": {},
     "output_type": "execute_result"
    }
   ],
   "source": [
    "bit_df.tail()"
   ]
  },
  {
   "cell_type": "code",
   "execution_count": 14,
   "metadata": {},
   "outputs": [
    {
     "data": {
      "text/plain": [
       "datetime.datetime(2018, 2, 28, 0, 0)"
      ]
     },
     "execution_count": 14,
     "metadata": {},
     "output_type": "execute_result"
    }
   ],
   "source": [
    "import dateparser\n",
    "dateparser.parse(u'28 февр.')  # Russian (13 January 2015 at 13:34)\n",
    "# datetime(2015, 1, 13, 13, 34)"
   ]
  },
  {
   "cell_type": "code",
   "execution_count": 15,
   "metadata": {},
   "outputs": [],
   "source": [
    "bit_df['datetime'] = bit_df.date.apply(lambda x: dateparser.parse(str(x)))"
   ]
  },
  {
   "cell_type": "code",
   "execution_count": 16,
   "metadata": {},
   "outputs": [],
   "source": [
    "bit_df.set_index('datetime', inplace = True)"
   ]
  },
  {
   "cell_type": "code",
   "execution_count": 17,
   "metadata": {},
   "outputs": [],
   "source": [
    "bit_df.drop(['Unnamed: 0','index', 'date'], axis = 1, inplace = True)"
   ]
  },
  {
   "cell_type": "code",
   "execution_count": 18,
   "metadata": {},
   "outputs": [],
   "source": [
    "bit_df.sort_index(inplace = True)"
   ]
  },
  {
   "cell_type": "code",
   "execution_count": 19,
   "metadata": {
    "scrolled": true
   },
   "outputs": [
    {
     "data": {
      "text/plain": [
       "2016"
      ]
     },
     "execution_count": 19,
     "metadata": {},
     "output_type": "execute_result"
    }
   ],
   "source": [
    "bit_df.index[0].year"
   ]
  },
  {
   "cell_type": "code",
   "execution_count": 20,
   "metadata": {
    "scrolled": false
   },
   "outputs": [
    {
     "data": {
      "text/html": [
       "<div>\n",
       "<style>\n",
       "    .dataframe thead tr:only-child th {\n",
       "        text-align: right;\n",
       "    }\n",
       "\n",
       "    .dataframe thead th {\n",
       "        text-align: left;\n",
       "    }\n",
       "\n",
       "    .dataframe tbody tr th {\n",
       "        vertical-align: top;\n",
       "    }\n",
       "</style>\n",
       "<table border=\"1\" class=\"dataframe\">\n",
       "  <thead>\n",
       "    <tr style=\"text-align: right;\">\n",
       "      <th></th>\n",
       "      <th>tweet</th>\n",
       "    </tr>\n",
       "    <tr>\n",
       "      <th>datetime</th>\n",
       "      <th></th>\n",
       "    </tr>\n",
       "  </thead>\n",
       "  <tbody>\n",
       "    <tr>\n",
       "      <th>2018-02-28</th>\n",
       "      <td>Crypto-News Podcast on #SoundCloud talks about...</td>\n",
       "    </tr>\n",
       "    <tr>\n",
       "      <th>2018-02-28</th>\n",
       "      <td>#publictokensale is LIVE AND KICKING! There's ...</td>\n",
       "    </tr>\n",
       "    <tr>\n",
       "      <th>2018-02-28</th>\n",
       "      <td>Let’s make some money together people! #bitcoi...</td>\n",
       "    </tr>\n",
       "    <tr>\n",
       "      <th>2018-02-28</th>\n",
       "      <td>$BTC #bitcoin close above 11149 would be a goo...</td>\n",
       "    </tr>\n",
       "    <tr>\n",
       "      <th>2018-02-28</th>\n",
       "      <td>no #VAT in #germanY..! dis is HUUUUUGEEEEEE To...</td>\n",
       "    </tr>\n",
       "  </tbody>\n",
       "</table>\n",
       "</div>"
      ],
      "text/plain": [
       "                                                        tweet\n",
       "datetime                                                     \n",
       "2018-02-28  Crypto-News Podcast on #SoundCloud talks about...\n",
       "2018-02-28  #publictokensale is LIVE AND KICKING! There's ...\n",
       "2018-02-28  Let’s make some money together people! #bitcoi...\n",
       "2018-02-28  $BTC #bitcoin close above 11149 would be a goo...\n",
       "2018-02-28  no #VAT in #germanY..! dis is HUUUUUGEEEEEE To..."
      ]
     },
     "execution_count": 20,
     "metadata": {},
     "output_type": "execute_result"
    }
   ],
   "source": [
    "bit_df.tail()"
   ]
  },
  {
   "cell_type": "markdown",
   "metadata": {},
   "source": [
    "### First ten tweets"
   ]
  },
  {
   "cell_type": "code",
   "execution_count": 21,
   "metadata": {
    "scrolled": true
   },
   "outputs": [
    {
     "name": "stdout",
     "output_type": "stream",
     "text": [
      "Markets Update: Massive Gains Year-to-Date Across Crypto-Markets http://ift.tt/2iQJNee  #Bitcoin #Crypto\n",
      "\n",
      "================================================================================\n",
      "#Bitcoin's architect #Satoshi engineered a thing that confounds the current power players, yet they don't know who he is. Think about that.\n",
      "\n",
      "================================================================================\n",
      "Markets Update: Massive Gains Year-to-Date Across Crypto-Markets https://news.bitcoin.com/markets-update-gains-year/ … #bitcoin\n",
      "\n",
      "================================================================================\n",
      "Apache tear pendant. Gemstone found, faceted and fashioned by me. Make it yours. $150 or 0.168 #bitcoin. #fashion #style #jewelry #jewellery\n",
      "\n",
      "================================================================================\n",
      "Guys, we're waiting for the wrong new year #bitcoin today! http://bit.ly/1IAb8e4 \n",
      "\n",
      "================================================================================\n",
      "All of the Rare Pepes submitted to our directory in 2016. 500 in 3 months! #bitcoin \n",
      "\n",
      "================================================================================\n",
      " i got another year! gonna love some more dammit and may the coin be with you! #2k17 woop woop x #Bitcoin #crypto #change\n",
      "\n",
      "================================================================================\n",
      "What is bitcoin? Read the explanation here: http://dld.bz/feQBV  #bitcoin #explained #btc #explanation\n",
      "\n",
      "================================================================================\n",
      "#Bitcoin Price: USD $970.52 $BLX http://ow.ly/4naJD6 \n",
      "\n",
      "================================================================================\n",
      "Will we see the world ring in NYE with #bitcoin @$1,000?\n",
      "\n",
      "================================================================================\n"
     ]
    }
   ],
   "source": [
    "for i in range(10):\n",
    "    print(bit_df.tweet[i])\n",
    "    print()\n",
    "    print('================================================================================')"
   ]
  },
  {
   "cell_type": "markdown",
   "metadata": {},
   "source": [
    "### Last ten tweets"
   ]
  },
  {
   "cell_type": "code",
   "execution_count": 22,
   "metadata": {},
   "outputs": [
    {
     "name": "stdout",
     "output_type": "stream",
     "text": [
      "no #VAT in #germanY..! dis is HUUUUUGEEEEEE Too soon no #incomeTaX ..?  then booooooooom \r\n",
      "\r\n",
      "#Bitcoin\r\n",
      "\r\n",
      "https://www.coindesk.com/germany-considers-crypto-legal-equivalent-to-fiat-for-tax-purposes/amp/?__twitter_impression=true …\n",
      "\n",
      "================================================================================\n",
      "$BTC #bitcoin close above 11149 would be a good step -4 hour \n",
      "\n",
      "================================================================================\n",
      "Let’s make some money together people! #bitcoin #ethereum $LTC $ETH $VEN $NEO $REQ $COSS $BTC $WTC $XRP $XLM\n",
      "\n",
      "================================================================================\n",
      "#publictokensale is LIVE AND KICKING! There's still time to #buytokens to head over to http://socsi.in/SPMZ0   NOW! #JET8 #J8Ttoken #tokensale #ICO #bitcoin \n",
      "\n",
      "================================================================================\n",
      "Crypto-News Podcast on #SoundCloud talks about #DeepOnion and its #privacy features. Check it out, highly recommend It!\r\n",
      "\r\n",
      "https://soundcloud.com/cryptocurrency-news-crypto-news/2-17-2018-crypto-news-pillar …\r\n",
      "\r\n",
      "@DeepOnionx #blockchain #anonymity #crypto #deepvault #VoteCentral #pivx #xspec #dash #xmr #pos #pow #bitcoin #ethereum #altcoin\n",
      "\n",
      "================================================================================\n",
      "Sir, when do you stop the accumulation? \r\n",
      "\r\n",
      "https://www.youtube.com/watch?v=Humfsis-QLI …\r\n",
      "\r\n",
      "#bitcoin $btcusd $xbtusd\n",
      "\n",
      "================================================================================\n",
      "Integrated software solution for airlines is a hot topic at Aviation Festival Asia 2018. Aeron will play its role with an immutable record of the pilot’s career progression #AviationFest #arn #aerotrips #blockchain #btc #bitcoin #eth\n",
      "\n",
      "================================================================================\n",
      "35 Nations and EU Want Better #Crypto #AML Policies :\r\n",
      "https://news.bitcoin.com/countries-fatf-revise-global-cryptocurrency-standards/ … @BTCTN\r\n",
      "#government #regulation #blockchain #fintech #bitcoin @evankirstel @Stevewal63 @DBaker007 @andreaspages @NeiraOsci @andy_lucerne @DavidBundiRisk @ImMBM @alvinfoo @debashis_dutta @MarvinStone\n",
      "\n",
      "================================================================================\n",
      "#China pulls further ahead of U.S in #mobilepayments with record US$12.8 trillion in transactions :\r\n",
      "http://www.scmp.com/tech/apps-gaming/article/2134011/china-pulls-further-ahead-us-mobile-payments-record-us128-trillion … @SCMP_News \r\n",
      "#banking #finserv #wallet #fintech #bitcoin / @JimMarous @amitTwitr @rshevlin @psb_dc @DianeKazarian @LloydLayton @k_feldborg @sbmeunier\n",
      "\n",
      "================================================================================\n",
      "A couple employees of the Russian nuclear weapons program used one of the strongest supercomputers in the world to mine #Bitcoin. According to Russian media, the alarm went off when the computer system connected to the internet. That is not allowed for safety reasons. pic.twitter.com/udnQVsEtPz\n",
      "\n",
      "================================================================================\n"
     ]
    }
   ],
   "source": [
    "for i in range(1,11):\n",
    "    print(bit_df.tweet[-i])\n",
    "    print()\n",
    "    print('================================================================================')"
   ]
  },
  {
   "cell_type": "code",
   "execution_count": 23,
   "metadata": {},
   "outputs": [
    {
     "data": {
      "text/plain": [
       "count    66070.000000\n",
       "mean       162.178477\n",
       "std         75.725212\n",
       "min         14.000000\n",
       "25%        109.000000\n",
       "50%        140.000000\n",
       "75%        219.000000\n",
       "max        683.000000\n",
       "Name: tweet, dtype: float64"
      ]
     },
     "execution_count": 23,
     "metadata": {},
     "output_type": "execute_result"
    }
   ],
   "source": [
    "len_data = bit_df.tweet.apply(len)\n",
    "len_data.describe()"
   ]
  },
  {
   "cell_type": "code",
   "execution_count": 24,
   "metadata": {},
   "outputs": [
    {
     "data": {
      "text/plain": [
       "<matplotlib.axes._subplots.AxesSubplot at 0x2019aad8400>"
      ]
     },
     "execution_count": 24,
     "metadata": {},
     "output_type": "execute_result"
    },
    {
     "data": {
      "image/png": "[encoded data removed]",
      "text/plain": [
       "<matplotlib.figure.Figure at 0x2019aad89b0>"
      ]
     },
     "metadata": {},
     "output_type": "display_data"
    }
   ],
   "source": [
    "len_data.hist()"
   ]
  },
  {
   "cell_type": "code",
   "execution_count": 25,
   "metadata": {
    "scrolled": false
   },
   "outputs": [
    {
     "data": {
      "text/html": [
       "<div>\n",
       "<style>\n",
       "    .dataframe thead tr:only-child th {\n",
       "        text-align: right;\n",
       "    }\n",
       "\n",
       "    .dataframe thead th {\n",
       "        text-align: left;\n",
       "    }\n",
       "\n",
       "    .dataframe tbody tr th {\n",
       "        vertical-align: top;\n",
       "    }\n",
       "</style>\n",
       "<table border=\"1\" class=\"dataframe\">\n",
       "  <thead>\n",
       "    <tr style=\"text-align: right;\">\n",
       "      <th></th>\n",
       "      <th>tweet</th>\n",
       "    </tr>\n",
       "  </thead>\n",
       "  <tbody>\n",
       "    <tr>\n",
       "      <th>count</th>\n",
       "      <td>416.000000</td>\n",
       "    </tr>\n",
       "    <tr>\n",
       "      <th>mean</th>\n",
       "      <td>158.822115</td>\n",
       "    </tr>\n",
       "    <tr>\n",
       "      <th>std</th>\n",
       "      <td>119.692989</td>\n",
       "    </tr>\n",
       "    <tr>\n",
       "      <th>min</th>\n",
       "      <td>5.000000</td>\n",
       "    </tr>\n",
       "    <tr>\n",
       "      <th>25%</th>\n",
       "      <td>67.750000</td>\n",
       "    </tr>\n",
       "    <tr>\n",
       "      <th>50%</th>\n",
       "      <td>110.000000</td>\n",
       "    </tr>\n",
       "    <tr>\n",
       "      <th>75%</th>\n",
       "      <td>228.500000</td>\n",
       "    </tr>\n",
       "    <tr>\n",
       "      <th>max</th>\n",
       "      <td>555.000000</td>\n",
       "    </tr>\n",
       "  </tbody>\n",
       "</table>\n",
       "</div>"
      ],
      "text/plain": [
       "            tweet\n",
       "count  416.000000\n",
       "mean   158.822115\n",
       "std    119.692989\n",
       "min      5.000000\n",
       "25%     67.750000\n",
       "50%    110.000000\n",
       "75%    228.500000\n",
       "max    555.000000"
      ]
     },
     "execution_count": 25,
     "metadata": {},
     "output_type": "execute_result"
    }
   ],
   "source": [
    "days_summary = pd.pivot_table( bit_df, index = 'datetime', values = 'tweet', aggfunc = np.count_nonzero )\n",
    "days_summary.describe()"
   ]
  },
  {
   "cell_type": "code",
   "execution_count": 26,
   "metadata": {
    "scrolled": true
   },
   "outputs": [
    {
     "data": {
      "text/html": [
       "<div>\n",
       "<style>\n",
       "    .dataframe thead tr:only-child th {\n",
       "        text-align: right;\n",
       "    }\n",
       "\n",
       "    .dataframe thead th {\n",
       "        text-align: left;\n",
       "    }\n",
       "\n",
       "    .dataframe tbody tr th {\n",
       "        vertical-align: top;\n",
       "    }\n",
       "</style>\n",
       "<table border=\"1\" class=\"dataframe\">\n",
       "  <thead>\n",
       "    <tr style=\"text-align: right;\">\n",
       "      <th></th>\n",
       "      <th>tweet</th>\n",
       "    </tr>\n",
       "    <tr>\n",
       "      <th>datetime</th>\n",
       "      <th></th>\n",
       "    </tr>\n",
       "  </thead>\n",
       "  <tbody>\n",
       "    <tr>\n",
       "      <th>2016-12-31</th>\n",
       "      <td>Markets Update: Massive Gains Year-to-Date Acr...</td>\n",
       "    </tr>\n",
       "    <tr>\n",
       "      <th>2016-12-31</th>\n",
       "      <td>#Bitcoin's architect #Satoshi engineered a thi...</td>\n",
       "    </tr>\n",
       "    <tr>\n",
       "      <th>2016-12-31</th>\n",
       "      <td>Markets Update: Massive Gains Year-to-Date Acr...</td>\n",
       "    </tr>\n",
       "    <tr>\n",
       "      <th>2016-12-31</th>\n",
       "      <td>Apache tear pendant. Gemstone found, faceted a...</td>\n",
       "    </tr>\n",
       "    <tr>\n",
       "      <th>2016-12-31</th>\n",
       "      <td>Guys, we're waiting for the wrong new year #bi...</td>\n",
       "    </tr>\n",
       "  </tbody>\n",
       "</table>\n",
       "</div>"
      ],
      "text/plain": [
       "                                                        tweet\n",
       "datetime                                                     \n",
       "2016-12-31  Markets Update: Massive Gains Year-to-Date Acr...\n",
       "2016-12-31  #Bitcoin's architect #Satoshi engineered a thi...\n",
       "2016-12-31  Markets Update: Massive Gains Year-to-Date Acr...\n",
       "2016-12-31  Apache tear pendant. Gemstone found, faceted a...\n",
       "2016-12-31  Guys, we're waiting for the wrong new year #bi..."
      ]
     },
     "execution_count": 26,
     "metadata": {},
     "output_type": "execute_result"
    }
   ],
   "source": [
    "bit_df.head()"
   ]
  },
  {
   "cell_type": "code",
   "execution_count": 27,
   "metadata": {
    "scrolled": false
   },
   "outputs": [
    {
     "data": {
      "text/html": [
       "<div>\n",
       "<style>\n",
       "    .dataframe thead tr:only-child th {\n",
       "        text-align: right;\n",
       "    }\n",
       "\n",
       "    .dataframe thead th {\n",
       "        text-align: left;\n",
       "    }\n",
       "\n",
       "    .dataframe tbody tr th {\n",
       "        vertical-align: top;\n",
       "    }\n",
       "</style>\n",
       "<table border=\"1\" class=\"dataframe\">\n",
       "  <thead>\n",
       "    <tr style=\"text-align: right;\">\n",
       "      <th></th>\n",
       "      <th>tweet</th>\n",
       "    </tr>\n",
       "    <tr>\n",
       "      <th>datetime</th>\n",
       "      <th></th>\n",
       "    </tr>\n",
       "  </thead>\n",
       "  <tbody>\n",
       "    <tr>\n",
       "      <th>2016-12-31</th>\n",
       "      <td>21</td>\n",
       "    </tr>\n",
       "    <tr>\n",
       "      <th>2017-01-01</th>\n",
       "      <td>48</td>\n",
       "    </tr>\n",
       "    <tr>\n",
       "      <th>2017-01-02</th>\n",
       "      <td>58</td>\n",
       "    </tr>\n",
       "    <tr>\n",
       "      <th>2017-01-03</th>\n",
       "      <td>73</td>\n",
       "    </tr>\n",
       "    <tr>\n",
       "      <th>2017-01-04</th>\n",
       "      <td>119</td>\n",
       "    </tr>\n",
       "  </tbody>\n",
       "</table>\n",
       "</div>"
      ],
      "text/plain": [
       "            tweet\n",
       "datetime         \n",
       "2016-12-31     21\n",
       "2017-01-01     48\n",
       "2017-01-02     58\n",
       "2017-01-03     73\n",
       "2017-01-04    119"
      ]
     },
     "execution_count": 27,
     "metadata": {},
     "output_type": "execute_result"
    }
   ],
   "source": [
    "days_summary.head()"
   ]
  },
  {
   "cell_type": "code",
   "execution_count": 28,
   "metadata": {},
   "outputs": [
    {
     "data": {
      "text/plain": [
       "DatetimeIndex(['2017-10-31', '2017-11-01', '2017-11-02', '2017-11-03',\n",
       "               '2017-11-04', '2017-11-05', '2017-11-06', '2017-11-07',\n",
       "               '2017-11-08', '2017-11-09', '2017-11-10', '2017-11-11',\n",
       "               '2017-11-12', '2017-11-13', '2017-11-14', '2017-11-15',\n",
       "               '2017-11-16', '2017-11-17', '2017-11-18', '2017-11-19',\n",
       "               '2017-11-20', '2017-11-21', '2017-11-22', '2017-11-23',\n",
       "               '2017-11-24', '2017-11-25', '2017-11-26', '2017-11-27',\n",
       "               '2017-11-28', '2017-11-29', '2017-11-30', '2017-12-01',\n",
       "               '2017-12-02', '2017-12-03', '2017-12-04', '2017-12-05',\n",
       "               '2017-12-06', '2017-12-07', '2017-12-08', '2017-12-09',\n",
       "               '2017-12-10', '2017-12-11', '2017-12-12', '2017-12-13',\n",
       "               '2017-12-14', '2017-12-15', '2017-12-16', '2017-12-17',\n",
       "               '2017-12-18', '2017-12-19'],\n",
       "              dtype='datetime64[ns]', name='datetime', freq=None)"
      ]
     },
     "execution_count": 28,
     "metadata": {},
     "output_type": "execute_result"
    }
   ],
   "source": [
    "days_summary.index[300:350]"
   ]
  },
  {
   "cell_type": "code",
   "execution_count": 30,
   "metadata": {},
   "outputs": [],
   "source": [
    "bit_df['YearMonth_0'] = 0"
   ]
  },
  {
   "cell_type": "code",
   "execution_count": 38,
   "metadata": {
    "scrolled": true
   },
   "outputs": [
    {
     "data": {
      "text/html": [
       "<div>\n",
       "<style>\n",
       "    .dataframe thead tr:only-child th {\n",
       "        text-align: right;\n",
       "    }\n",
       "\n",
       "    .dataframe thead th {\n",
       "        text-align: left;\n",
       "    }\n",
       "\n",
       "    .dataframe tbody tr th {\n",
       "        vertical-align: top;\n",
       "    }\n",
       "</style>\n",
       "<table border=\"1\" class=\"dataframe\">\n",
       "  <thead>\n",
       "    <tr style=\"text-align: right;\">\n",
       "      <th></th>\n",
       "      <th>tweet</th>\n",
       "      <th>YearMonth</th>\n",
       "      <th>YearMonth_0</th>\n",
       "    </tr>\n",
       "    <tr>\n",
       "      <th>datetime</th>\n",
       "      <th></th>\n",
       "      <th></th>\n",
       "      <th></th>\n",
       "    </tr>\n",
       "  </thead>\n",
       "  <tbody>\n",
       "    <tr>\n",
       "      <th>2016-12-31</th>\n",
       "      <td>Markets Update: Massive Gains Year-to-Date Acr...</td>\n",
       "      <td>2016.12</td>\n",
       "      <td>201612</td>\n",
       "    </tr>\n",
       "    <tr>\n",
       "      <th>2016-12-31</th>\n",
       "      <td>#Bitcoin's architect #Satoshi engineered a thi...</td>\n",
       "      <td>2016.12</td>\n",
       "      <td>201612</td>\n",
       "    </tr>\n",
       "    <tr>\n",
       "      <th>2016-12-31</th>\n",
       "      <td>Markets Update: Massive Gains Year-to-Date Acr...</td>\n",
       "      <td>2016.12</td>\n",
       "      <td>201612</td>\n",
       "    </tr>\n",
       "    <tr>\n",
       "      <th>2016-12-31</th>\n",
       "      <td>Apache tear pendant. Gemstone found, faceted a...</td>\n",
       "      <td>2016.12</td>\n",
       "      <td>201612</td>\n",
       "    </tr>\n",
       "    <tr>\n",
       "      <th>2016-12-31</th>\n",
       "      <td>Guys, we're waiting for the wrong new year #bi...</td>\n",
       "      <td>2016.12</td>\n",
       "      <td>201612</td>\n",
       "    </tr>\n",
       "  </tbody>\n",
       "</table>\n",
       "</div>"
      ],
      "text/plain": [
       "                                                        tweet YearMonth  \\\n",
       "datetime                                                                  \n",
       "2016-12-31  Markets Update: Massive Gains Year-to-Date Acr...   2016.12   \n",
       "2016-12-31  #Bitcoin's architect #Satoshi engineered a thi...   2016.12   \n",
       "2016-12-31  Markets Update: Massive Gains Year-to-Date Acr...   2016.12   \n",
       "2016-12-31  Apache tear pendant. Gemstone found, faceted a...   2016.12   \n",
       "2016-12-31  Guys, we're waiting for the wrong new year #bi...   2016.12   \n",
       "\n",
       "            YearMonth_0  \n",
       "datetime                 \n",
       "2016-12-31       201612  \n",
       "2016-12-31       201612  \n",
       "2016-12-31       201612  \n",
       "2016-12-31       201612  \n",
       "2016-12-31       201612  "
      ]
     },
     "execution_count": 38,
     "metadata": {},
     "output_type": "execute_result"
    }
   ],
   "source": [
    "bit_df.head()"
   ]
  },
  {
   "cell_type": "code",
   "execution_count": 37,
   "metadata": {
    "scrolled": true
   },
   "outputs": [],
   "source": [
    "bit_df['YearMonth_0'] = bit_df.index.map(lambda x: x.year * 100 + x.month)\n"
   ]
  },
  {
   "cell_type": "code",
   "execution_count": 54,
   "metadata": {},
   "outputs": [
    {
     "data": {
      "text/plain": [
       "array([201612, 201701, 201702, 201703, 201704, 201705, 201706, 201707,\n",
       "       201708, 201709, 201710, 201711, 201712, 201801, 201802], dtype=int64)"
      ]
     },
     "execution_count": 54,
     "metadata": {},
     "output_type": "execute_result"
    }
   ],
   "source": [
    "bit_df.YearMonth_0.unique()"
   ]
  },
  {
   "cell_type": "code",
   "execution_count": 48,
   "metadata": {},
   "outputs": [],
   "source": [
    "dictmonth = {201612 : 1}\n",
    "for i in range(1, len(bit_df.YearMonth_0.unique())):\n",
    "    dictmonth [bit_df.YearMonth_0.unique()[i]] = i"
   ]
  },
  {
   "cell_type": "code",
   "execution_count": 49,
   "metadata": {
    "scrolled": true
   },
   "outputs": [
    {
     "data": {
      "text/plain": [
       "{201612: 1,\n",
       " 201701: 1,\n",
       " 201702: 2,\n",
       " 201703: 3,\n",
       " 201704: 4,\n",
       " 201705: 5,\n",
       " 201706: 6,\n",
       " 201707: 7,\n",
       " 201708: 8,\n",
       " 201709: 9,\n",
       " 201710: 10,\n",
       " 201711: 11,\n",
       " 201712: 12,\n",
       " 201801: 13,\n",
       " 201802: 14}"
      ]
     },
     "execution_count": 49,
     "metadata": {},
     "output_type": "execute_result"
    }
   ],
   "source": [
    "dictmonth"
   ]
  },
  {
   "cell_type": "code",
   "execution_count": 50,
   "metadata": {},
   "outputs": [
    {
     "data": {
      "text/plain": [
       "1"
      ]
     },
     "execution_count": 50,
     "metadata": {},
     "output_type": "execute_result"
    }
   ],
   "source": [
    "dictmonth[bit_df['YearMonth_0'][0]]"
   ]
  },
  {
   "cell_type": "code",
   "execution_count": 58,
   "metadata": {},
   "outputs": [],
   "source": [
    "bit_df['m_num'] = bit_df['YearMonth_0'].map(dictmonth)"
   ]
  },
  {
   "cell_type": "code",
   "execution_count": 59,
   "metadata": {},
   "outputs": [
    {
     "data": {
      "text/html": [
       "<div>\n",
       "<style>\n",
       "    .dataframe thead tr:only-child th {\n",
       "        text-align: right;\n",
       "    }\n",
       "\n",
       "    .dataframe thead th {\n",
       "        text-align: left;\n",
       "    }\n",
       "\n",
       "    .dataframe tbody tr th {\n",
       "        vertical-align: top;\n",
       "    }\n",
       "</style>\n",
       "<table border=\"1\" class=\"dataframe\">\n",
       "  <thead>\n",
       "    <tr style=\"text-align: right;\">\n",
       "      <th></th>\n",
       "      <th>tweet</th>\n",
       "    </tr>\n",
       "  </thead>\n",
       "  <tbody>\n",
       "    <tr>\n",
       "      <th>count</th>\n",
       "      <td>15.000000</td>\n",
       "    </tr>\n",
       "    <tr>\n",
       "      <th>mean</th>\n",
       "      <td>4404.666667</td>\n",
       "    </tr>\n",
       "    <tr>\n",
       "      <th>std</th>\n",
       "      <td>3446.133168</td>\n",
       "    </tr>\n",
       "    <tr>\n",
       "      <th>min</th>\n",
       "      <td>21.000000</td>\n",
       "    </tr>\n",
       "    <tr>\n",
       "      <th>25%</th>\n",
       "      <td>2023.500000</td>\n",
       "    </tr>\n",
       "    <tr>\n",
       "      <th>50%</th>\n",
       "      <td>2572.000000</td>\n",
       "    </tr>\n",
       "    <tr>\n",
       "      <th>75%</th>\n",
       "      <td>6147.000000</td>\n",
       "    </tr>\n",
       "    <tr>\n",
       "      <th>max</th>\n",
       "      <td>11115.000000</td>\n",
       "    </tr>\n",
       "  </tbody>\n",
       "</table>\n",
       "</div>"
      ],
      "text/plain": [
       "              tweet\n",
       "count     15.000000\n",
       "mean    4404.666667\n",
       "std     3446.133168\n",
       "min       21.000000\n",
       "25%     2023.500000\n",
       "50%     2572.000000\n",
       "75%     6147.000000\n",
       "max    11115.000000"
      ]
     },
     "execution_count": 59,
     "metadata": {},
     "output_type": "execute_result"
    }
   ],
   "source": [
    "month_summary = pd.pivot_table( bit_df, index = ['m_num', 'YearMonth'] , values = 'tweet', aggfunc = np.count_nonzero )\n",
    "month_summary.describe()"
   ]
  },
  {
   "cell_type": "code",
   "execution_count": 60,
   "metadata": {},
   "outputs": [
    {
     "data": {
      "text/html": [
       "<div>\n",
       "<style>\n",
       "    .dataframe thead tr:only-child th {\n",
       "        text-align: right;\n",
       "    }\n",
       "\n",
       "    .dataframe thead th {\n",
       "        text-align: left;\n",
       "    }\n",
       "\n",
       "    .dataframe tbody tr th {\n",
       "        vertical-align: top;\n",
       "    }\n",
       "</style>\n",
       "<table border=\"1\" class=\"dataframe\">\n",
       "  <thead>\n",
       "    <tr style=\"text-align: right;\">\n",
       "      <th></th>\n",
       "      <th></th>\n",
       "      <th>tweet</th>\n",
       "    </tr>\n",
       "    <tr>\n",
       "      <th>m_num</th>\n",
       "      <th>YearMonth</th>\n",
       "      <th></th>\n",
       "    </tr>\n",
       "  </thead>\n",
       "  <tbody>\n",
       "    <tr>\n",
       "      <th rowspan=\"2\" valign=\"top\">1</th>\n",
       "      <th>2016.12</th>\n",
       "      <td>21</td>\n",
       "    </tr>\n",
       "    <tr>\n",
       "      <th>2017.1</th>\n",
       "      <td>1899</td>\n",
       "    </tr>\n",
       "    <tr>\n",
       "      <th>2</th>\n",
       "      <th>2017.2</th>\n",
       "      <td>1792</td>\n",
       "    </tr>\n",
       "    <tr>\n",
       "      <th>3</th>\n",
       "      <th>2017.3</th>\n",
       "      <td>2114</td>\n",
       "    </tr>\n",
       "    <tr>\n",
       "      <th>4</th>\n",
       "      <th>2017.4</th>\n",
       "      <td>1933</td>\n",
       "    </tr>\n",
       "    <tr>\n",
       "      <th>5</th>\n",
       "      <th>2017.5</th>\n",
       "      <td>2541</td>\n",
       "    </tr>\n",
       "    <tr>\n",
       "      <th>6</th>\n",
       "      <th>2017.6</th>\n",
       "      <td>2522</td>\n",
       "    </tr>\n",
       "    <tr>\n",
       "      <th>7</th>\n",
       "      <th>2017.7</th>\n",
       "      <td>2572</td>\n",
       "    </tr>\n",
       "    <tr>\n",
       "      <th>8</th>\n",
       "      <th>2017.8</th>\n",
       "      <td>3567</td>\n",
       "    </tr>\n",
       "    <tr>\n",
       "      <th>9</th>\n",
       "      <th>2017.9</th>\n",
       "      <td>4351</td>\n",
       "    </tr>\n",
       "    <tr>\n",
       "      <th>10</th>\n",
       "      <th>2017.10</th>\n",
       "      <td>4588</td>\n",
       "    </tr>\n",
       "    <tr>\n",
       "      <th>11</th>\n",
       "      <th>2017.11</th>\n",
       "      <td>7706</td>\n",
       "    </tr>\n",
       "    <tr>\n",
       "      <th>12</th>\n",
       "      <th>2017.12</th>\n",
       "      <td>11115</td>\n",
       "    </tr>\n",
       "    <tr>\n",
       "      <th>13</th>\n",
       "      <th>2018.1</th>\n",
       "      <td>9686</td>\n",
       "    </tr>\n",
       "    <tr>\n",
       "      <th>14</th>\n",
       "      <th>2018.2</th>\n",
       "      <td>9663</td>\n",
       "    </tr>\n",
       "  </tbody>\n",
       "</table>\n",
       "</div>"
      ],
      "text/plain": [
       "                 tweet\n",
       "m_num YearMonth       \n",
       "1     2016.12       21\n",
       "      2017.1      1899\n",
       "2     2017.2      1792\n",
       "3     2017.3      2114\n",
       "4     2017.4      1933\n",
       "5     2017.5      2541\n",
       "6     2017.6      2522\n",
       "7     2017.7      2572\n",
       "8     2017.8      3567\n",
       "9     2017.9      4351\n",
       "10    2017.10     4588\n",
       "11    2017.11     7706\n",
       "12    2017.12    11115\n",
       "13    2018.1      9686\n",
       "14    2018.2      9663"
      ]
     },
     "execution_count": 60,
     "metadata": {},
     "output_type": "execute_result"
    }
   ],
   "source": [
    "month_summary"
   ]
  },
  {
   "cell_type": "code",
   "execution_count": 61,
   "metadata": {},
   "outputs": [
    {
     "data": {
      "text/html": [
       "<div>\n",
       "<style>\n",
       "    .dataframe thead tr:only-child th {\n",
       "        text-align: right;\n",
       "    }\n",
       "\n",
       "    .dataframe thead th {\n",
       "        text-align: left;\n",
       "    }\n",
       "\n",
       "    .dataframe tbody tr th {\n",
       "        vertical-align: top;\n",
       "    }\n",
       "</style>\n",
       "<table border=\"1\" class=\"dataframe\">\n",
       "  <thead>\n",
       "    <tr style=\"text-align: right;\">\n",
       "      <th></th>\n",
       "      <th></th>\n",
       "      <th>tweet</th>\n",
       "    </tr>\n",
       "    <tr>\n",
       "      <th>m_num</th>\n",
       "      <th>YearMonth</th>\n",
       "      <th></th>\n",
       "    </tr>\n",
       "  </thead>\n",
       "  <tbody>\n",
       "    <tr>\n",
       "      <th rowspan=\"2\" valign=\"top\">1</th>\n",
       "      <th>2016.12</th>\n",
       "      <td>21</td>\n",
       "    </tr>\n",
       "    <tr>\n",
       "      <th>2017.1</th>\n",
       "      <td>1899</td>\n",
       "    </tr>\n",
       "    <tr>\n",
       "      <th>2</th>\n",
       "      <th>2017.2</th>\n",
       "      <td>1792</td>\n",
       "    </tr>\n",
       "    <tr>\n",
       "      <th>3</th>\n",
       "      <th>2017.3</th>\n",
       "      <td>2114</td>\n",
       "    </tr>\n",
       "    <tr>\n",
       "      <th>4</th>\n",
       "      <th>2017.4</th>\n",
       "      <td>1933</td>\n",
       "    </tr>\n",
       "    <tr>\n",
       "      <th>5</th>\n",
       "      <th>2017.5</th>\n",
       "      <td>2541</td>\n",
       "    </tr>\n",
       "    <tr>\n",
       "      <th>6</th>\n",
       "      <th>2017.6</th>\n",
       "      <td>2522</td>\n",
       "    </tr>\n",
       "    <tr>\n",
       "      <th>7</th>\n",
       "      <th>2017.7</th>\n",
       "      <td>2572</td>\n",
       "    </tr>\n",
       "    <tr>\n",
       "      <th>8</th>\n",
       "      <th>2017.8</th>\n",
       "      <td>3567</td>\n",
       "    </tr>\n",
       "    <tr>\n",
       "      <th>9</th>\n",
       "      <th>2017.9</th>\n",
       "      <td>4351</td>\n",
       "    </tr>\n",
       "    <tr>\n",
       "      <th>10</th>\n",
       "      <th>2017.10</th>\n",
       "      <td>4588</td>\n",
       "    </tr>\n",
       "    <tr>\n",
       "      <th>11</th>\n",
       "      <th>2017.11</th>\n",
       "      <td>7706</td>\n",
       "    </tr>\n",
       "    <tr>\n",
       "      <th>12</th>\n",
       "      <th>2017.12</th>\n",
       "      <td>11115</td>\n",
       "    </tr>\n",
       "    <tr>\n",
       "      <th>13</th>\n",
       "      <th>2018.1</th>\n",
       "      <td>9686</td>\n",
       "    </tr>\n",
       "    <tr>\n",
       "      <th>14</th>\n",
       "      <th>2018.2</th>\n",
       "      <td>9663</td>\n",
       "    </tr>\n",
       "  </tbody>\n",
       "</table>\n",
       "</div>"
      ],
      "text/plain": [
       "                 tweet\n",
       "m_num YearMonth       \n",
       "1     2016.12       21\n",
       "      2017.1      1899\n",
       "2     2017.2      1792\n",
       "3     2017.3      2114\n",
       "4     2017.4      1933\n",
       "5     2017.5      2541\n",
       "6     2017.6      2522\n",
       "7     2017.7      2572\n",
       "8     2017.8      3567\n",
       "9     2017.9      4351\n",
       "10    2017.10     4588\n",
       "11    2017.11     7706\n",
       "12    2017.12    11115\n",
       "13    2018.1      9686\n",
       "14    2018.2      9663"
      ]
     },
     "execution_count": 61,
     "metadata": {},
     "output_type": "execute_result"
    }
   ],
   "source": [
    "month_summary.sort_index()"
   ]
  },
  {
   "cell_type": "code",
   "execution_count": 62,
   "metadata": {
    "scrolled": true
   },
   "outputs": [
    {
     "data": {
      "text/plain": [
       "<matplotlib.axes._subplots.AxesSubplot at 0x201a3b70400>"
      ]
     },
     "execution_count": 62,
     "metadata": {},
     "output_type": "execute_result"
    },
    {
     "data": {
      "image/png": "[encoded data removed]",
      "text/plain": [
       "<matplotlib.figure.Figure at 0x2019bd17208>"
      ]
     },
     "metadata": {},
     "output_type": "display_data"
    }
   ],
   "source": [
    "month_summary.plot(kind='bar')"
   ]
  },
  {
   "cell_type": "code",
   "execution_count": 63,
   "metadata": {},
   "outputs": [
    {
     "data": {
      "text/plain": [
       "'no #VAT in #germanY..! dis is HUUUUUGEEEEEE Too soon no #incomeTaX ..?  then booooooooom \\r\\n\\r\\n#Bitcoin\\r\\n\\r\\nhttps://www.coindesk.com/germany-considers-crypto-legal-equivalent-to-fiat-for-tax-purposes/amp/?__twitter_impression=true …'"
      ]
     },
     "execution_count": 63,
     "metadata": {},
     "output_type": "execute_result"
    }
   ],
   "source": [
    "s0 = bit_df.tweet[-1]\n",
    "s0"
   ]
  },
  {
   "cell_type": "code",
   "execution_count": 64,
   "metadata": {
    "scrolled": false
   },
   "outputs": [
    {
     "name": "stdout",
     "output_type": "stream",
     "text": [
      "['no', '#VAT', 'in', '#germanY', '..', '!', 'dis', 'is', 'HUUUUUGEEEEEE', 'Too', 'soon', 'no', '#incomeTaX', '..', '?', 'then', 'booooooooom', '#Bitcoin', 'https://www.coindesk.com/germany-considers-crypto-legal-equivalent-to-fiat-for-tax-purposes/amp/?__twitter_impression=true', '…']\n",
      "\n",
      "20\n"
     ]
    }
   ],
   "source": [
    "from nltk.tokenize import TweetTokenizer\n",
    "tknzr = TweetTokenizer()\n",
    "\n",
    "print(tknzr.tokenize(s0))\n",
    "print()\n",
    "print(len(tknzr.tokenize(s0)))"
   ]
  },
  {
   "cell_type": "code",
   "execution_count": 65,
   "metadata": {},
   "outputs": [
    {
     "name": "stdout",
     "output_type": "stream",
     "text": [
      "['no', '#VAT', 'in', '#germanY', '..', '!', 'dis', 'is', 'HUUUGEEE', 'Too', 'soon', 'no', '#incomeTaX', '..', '?', 'then', 'booom', '#Bitcoin', 'https://www.coindesk.com/germany-considers-crypto-legal-equivalent-to-fiat-for-tax-purposes/amp/?__twitter_impression=true', '…']\n",
      "\n",
      "20\n"
     ]
    }
   ],
   "source": [
    "tknzr2 = TweetTokenizer(strip_handles=True, reduce_len=True)\n",
    "print(tknzr2.tokenize(s0))\n",
    "print()\n",
    "print(len(tknzr2.tokenize(s0)))"
   ]
  },
  {
   "cell_type": "code",
   "execution_count": 66,
   "metadata": {},
   "outputs": [
    {
     "name": "stdout",
     "output_type": "stream",
     "text": [
      "['i', 'me', 'my', 'myself', 'we', 'our', 'ours', 'ourselves', 'you', \"you're\", \"you've\", \"you'll\", \"you'd\", 'your', 'yours', 'yourself', 'yourselves', 'he', 'him', 'his', 'himself', 'she', \"she's\", 'her', 'hers', 'herself', 'it', \"it's\", 'its', 'itself', 'they', 'them', 'their', 'theirs', 'themselves', 'what', 'which', 'who', 'whom', 'this', 'that', \"that'll\", 'these', 'those', 'am', 'is', 'are', 'was', 'were', 'be', 'been', 'being', 'have', 'has', 'had', 'having', 'do', 'does', 'did', 'doing', 'a', 'an', 'the', 'and', 'but', 'if', 'or', 'because', 'as', 'until', 'while', 'of', 'at', 'by', 'for', 'with', 'about', 'against', 'between', 'into', 'through', 'during', 'before', 'after', 'above', 'below', 'to', 'from', 'up', 'down', 'in', 'out', 'on', 'off', 'over', 'under', 'again', 'further', 'then', 'once', 'here', 'there', 'when', 'where', 'why', 'how', 'all', 'any', 'both', 'each', 'few', 'more', 'most', 'other', 'some', 'such', 'no', 'nor', 'not', 'only', 'own', 'same', 'so', 'than', 'too', 'very', 's', 't', 'can', 'will', 'just', 'don', \"don't\", 'should', \"should've\", 'now', 'd', 'll', 'm', 'o', 're', 've', 'y', 'ain', 'aren', \"aren't\", 'couldn', \"couldn't\", 'didn', \"didn't\", 'doesn', \"doesn't\", 'hadn', \"hadn't\", 'hasn', \"hasn't\", 'haven', \"haven't\", 'isn', \"isn't\", 'ma', 'mightn', \"mightn't\", 'mustn', \"mustn't\", 'needn', \"needn't\", 'shan', \"shan't\", 'shouldn', \"shouldn't\", 'wasn', \"wasn't\", 'weren', \"weren't\", 'won', \"won't\", 'wouldn', \"wouldn't\", '!', '\"', '#', '$', '%', '&', \"'\", '(', ')', '*', '+', ',', '-', '.', '/', ':', ';', '<', '=', '>', '?', '@', '[', '\\\\', ']', '^', '_', '`', '{', '|', '}', '~', 'rt', 'via', 'dis', '#bitcoin']\n",
      "\n",
      "215\n"
     ]
    }
   ],
   "source": [
    "from nltk.corpus import stopwords\n",
    "\n",
    "import string\n",
    " \n",
    "punctuation = list(string.punctuation)\n",
    "stop = stopwords.words('english') + punctuation + ['rt', 'via', 'dis', '#bitcoin']\n",
    "\n",
    "print(stop)\n",
    "print()\n",
    "print(len(stop))"
   ]
  },
  {
   "cell_type": "code",
   "execution_count": 67,
   "metadata": {},
   "outputs": [],
   "source": [
    "def words_only(text):\n",
    "    return \" \".join(tknzr2.tokenize(text))\n",
    "\n",
    "\n",
    "bit_df.tweet = bit_df.tweet.str.lower()\n",
    "bit_df.tweet = bit_df.tweet.apply(words_only)"
   ]
  },
  {
   "cell_type": "code",
   "execution_count": 68,
   "metadata": {},
   "outputs": [],
   "source": [
    "def  remove_stopwords(text, stop = stop):\n",
    "    try:\n",
    "        return \" \".join([token for token in text.split() if not token in stop])\n",
    "    except:\n",
    "        return \"\"\n",
    "    \n",
    "bit_df.tweet = bit_df.tweet.apply(remove_stopwords)\n"
   ]
  },
  {
   "cell_type": "code",
   "execution_count": 69,
   "metadata": {
    "scrolled": true
   },
   "outputs": [
    {
     "data": {
      "text/plain": [
       "'markets update massive gains year-to-date across crypto-markets http://ift.tt/2iqjnee #crypto'"
      ]
     },
     "execution_count": 69,
     "metadata": {},
     "output_type": "execute_result"
    }
   ],
   "source": [
    "bit_df.tweet[0]"
   ]
  },
  {
   "cell_type": "code",
   "execution_count": 70,
   "metadata": {},
   "outputs": [],
   "source": [
    "import nltk"
   ]
  },
  {
   "cell_type": "code",
   "execution_count": 71,
   "metadata": {},
   "outputs": [
    {
     "data": {
      "text/plain": [
       "'submitted'"
      ]
     },
     "execution_count": 71,
     "metadata": {},
     "output_type": "execute_result"
    }
   ],
   "source": [
    "from nltk.stem import WordNetLemmatizer\n",
    "\n",
    "wordnet_lemmatizer = WordNetLemmatizer()\n",
    "wordnet_lemmatizer.lemmatize('submitted')\n",
    "\n"
   ]
  },
  {
   "cell_type": "code",
   "execution_count": 72,
   "metadata": {},
   "outputs": [],
   "source": [
    "m = WordNetLemmatizer()\n",
    "\n",
    "def lemmatize(text, mystem=m):\n",
    "    try:\n",
    "        return \"\".join(m.lemmatize(text)).strip()  \n",
    "    except:\n",
    "        return \" \"\n",
    "\n",
    "bit_df.tweet = bit_df.tweet.apply(lemmatize)"
   ]
  },
  {
   "cell_type": "code",
   "execution_count": 73,
   "metadata": {},
   "outputs": [],
   "source": [
    "\n",
    "from  nltk import FreqDist"
   ]
  },
  {
   "cell_type": "code",
   "execution_count": 74,
   "metadata": {},
   "outputs": [
    {
     "name": "stdout",
     "output_type": "stream",
     "text": [
      "('#blockchain', 19730)\n",
      "('#cryptocurrency', 13920)\n",
      "('…', 12290)\n",
      "('#ethereum', 10835)\n",
      "('#fintech', 10578)\n",
      "('#crypto', 10206)\n",
      "('btc', 8351)\n",
      "('bitcoin', 7619)\n",
      "('#btc', 7292)\n",
      "('#ico', 6990)\n",
      "('’', 4589)\n",
      "('...', 4048)\n",
      "('new', 3572)\n",
      "('#iot', 3488)\n",
      "('#ai', 3454)\n",
      "('#eth', 3334)\n",
      "('#litecoin', 2958)\n",
      "('price', 2955)\n",
      "('crypto', 2793)\n",
      "('#bigdata', 2729)\n",
      "('1', 2478)\n",
      "('get', 2477)\n",
      "('like', 2445)\n",
      "('#cryptocurrencies', 2360)\n",
      "('eth', 2235)\n",
      "('#bitcoincash', 2213)\n",
      "('buy', 2194)\n",
      "('market', 2168)\n",
      "('time', 2141)\n",
      "('one', 2135)\n"
     ]
    }
   ],
   "source": [
    "lemmata = []\n",
    "for index, row in bit_df.iterrows():\n",
    "    lemmata += row['tweet'].split()\n",
    "fd = FreqDist(lemmata)\n",
    "for i in fd.most_common(30):\n",
    "    print(i)"
   ]
  },
  {
   "cell_type": "code",
   "execution_count": 75,
   "metadata": {},
   "outputs": [],
   "source": [
    "bit_df.to_csv('D:\\\\WorK Hard\\\\ICEF\\\\Diploma\\\\bitcoin_20170101_20180301_preproc.csv')"
   ]
  },
  {
   "cell_type": "code",
   "execution_count": 50,
   "metadata": {},
   "outputs": [],
   "source": [
    "bit_df = pd.read_csv('C:\\\\Users\\\\base5\\\\Downloads\\\\bitcoin_20170101_20180301_preproc (1).csv', encoding= 'latin1')"
   ]
  },
  {
   "cell_type": "code",
   "execution_count": 56,
   "metadata": {},
   "outputs": [],
   "source": [
    "bit_df.rename(columns={bit_df.columns[0] : 'datetime'}, inplace= True)"
   ]
  },
  {
   "cell_type": "code",
   "execution_count": 58,
   "metadata": {},
   "outputs": [],
   "source": [
    "bit_df.set_index(bit_df.columns[0], inplace = True )"
   ]
  },
  {
   "cell_type": "code",
   "execution_count": 59,
   "metadata": {},
   "outputs": [],
   "source": [
    "bit_df.dropna(inplace = True)"
   ]
  },
  {
   "cell_type": "code",
   "execution_count": 60,
   "metadata": {},
   "outputs": [
    {
     "data": {
      "text/html": [
       "<div>\n",
       "<style scoped>\n",
       "    .dataframe tbody tr th:only-of-type {\n",
       "        vertical-align: middle;\n",
       "    }\n",
       "\n",
       "    .dataframe tbody tr th {\n",
       "        vertical-align: top;\n",
       "    }\n",
       "\n",
       "    .dataframe thead th {\n",
       "        text-align: right;\n",
       "    }\n",
       "</style>\n",
       "<table border=\"1\" class=\"dataframe\">\n",
       "  <thead>\n",
       "    <tr style=\"text-align: right;\">\n",
       "      <th></th>\n",
       "      <th>BTC price</th>\n",
       "      <th>BTC bin</th>\n",
       "      <th>tweet</th>\n",
       "      <th>YearMonth</th>\n",
       "      <th>YearMonth_0</th>\n",
       "      <th>m_num</th>\n",
       "    </tr>\n",
       "    <tr>\n",
       "      <th>datetime</th>\n",
       "      <th></th>\n",
       "      <th></th>\n",
       "      <th></th>\n",
       "      <th></th>\n",
       "      <th></th>\n",
       "      <th></th>\n",
       "    </tr>\n",
       "  </thead>\n",
       "  <tbody>\n",
       "    <tr>\n",
       "      <th>2016-12-31</th>\n",
       "      <td>959.879875</td>\n",
       "      <td>1</td>\n",
       "      <td>markets update massive gains year-to-date acro...</td>\n",
       "      <td>2016.12</td>\n",
       "      <td>201612</td>\n",
       "      <td>1</td>\n",
       "    </tr>\n",
       "    <tr>\n",
       "      <th>2016-12-31</th>\n",
       "      <td>959.879875</td>\n",
       "      <td>1</td>\n",
       "      <td>#bitcoin's architect #satoshi engineered thing...</td>\n",
       "      <td>2016.12</td>\n",
       "      <td>201612</td>\n",
       "      <td>1</td>\n",
       "    </tr>\n",
       "    <tr>\n",
       "      <th>2016-12-31</th>\n",
       "      <td>959.879875</td>\n",
       "      <td>1</td>\n",
       "      <td>markets update massive gains year-to-date acro...</td>\n",
       "      <td>2016.12</td>\n",
       "      <td>201612</td>\n",
       "      <td>1</td>\n",
       "    </tr>\n",
       "    <tr>\n",
       "      <th>2016-12-31</th>\n",
       "      <td>959.879875</td>\n",
       "      <td>1</td>\n",
       "      <td>apache tear pendant gemstone found faceted fas...</td>\n",
       "      <td>2016.12</td>\n",
       "      <td>201612</td>\n",
       "      <td>1</td>\n",
       "    </tr>\n",
       "    <tr>\n",
       "      <th>2016-12-31</th>\n",
       "      <td>959.879875</td>\n",
       "      <td>1</td>\n",
       "      <td>guys we're waiting wrong new year today http:/...</td>\n",
       "      <td>2016.12</td>\n",
       "      <td>201612</td>\n",
       "      <td>1</td>\n",
       "    </tr>\n",
       "  </tbody>\n",
       "</table>\n",
       "</div>"
      ],
      "text/plain": [
       "             BTC price  BTC bin  \\\n",
       "datetime                          \n",
       "2016-12-31  959.879875        1   \n",
       "2016-12-31  959.879875        1   \n",
       "2016-12-31  959.879875        1   \n",
       "2016-12-31  959.879875        1   \n",
       "2016-12-31  959.879875        1   \n",
       "\n",
       "                                                        tweet  YearMonth  \\\n",
       "datetime                                                                   \n",
       "2016-12-31  markets update massive gains year-to-date acro...    2016.12   \n",
       "2016-12-31  #bitcoin's architect #satoshi engineered thing...    2016.12   \n",
       "2016-12-31  markets update massive gains year-to-date acro...    2016.12   \n",
       "2016-12-31  apache tear pendant gemstone found faceted fas...    2016.12   \n",
       "2016-12-31  guys we're waiting wrong new year today http:/...    2016.12   \n",
       "\n",
       "            YearMonth_0  m_num  \n",
       "datetime                        \n",
       "2016-12-31       201612      1  \n",
       "2016-12-31       201612      1  \n",
       "2016-12-31       201612      1  \n",
       "2016-12-31       201612      1  \n",
       "2016-12-31       201612      1  "
      ]
     },
     "execution_count": 60,
     "metadata": {},
     "output_type": "execute_result"
    }
   ],
   "source": [
    "bit_df.head()"
   ]
  },
  {
   "cell_type": "code",
   "execution_count": 42,
   "metadata": {},
   "outputs": [],
   "source": [
    "bit_price = pd.read_csv('C:/Users/base5/Downloads/bitcoin price.csv', delimiter=';', index_col='Date')"
   ]
  },
  {
   "cell_type": "code",
   "execution_count": 43,
   "metadata": {},
   "outputs": [],
   "source": [
    "bitcoin_all = bit_price.merge(bit_df, right_index=True, left_index=True, how = 'inner')"
   ]
  },
  {
   "cell_type": "code",
   "execution_count": 61,
   "metadata": {},
   "outputs": [
    {
     "data": {
      "text/html": [
       "<div>\n",
       "<style scoped>\n",
       "    .dataframe tbody tr th:only-of-type {\n",
       "        vertical-align: middle;\n",
       "    }\n",
       "\n",
       "    .dataframe tbody tr th {\n",
       "        vertical-align: top;\n",
       "    }\n",
       "\n",
       "    .dataframe thead th {\n",
       "        text-align: right;\n",
       "    }\n",
       "</style>\n",
       "<table border=\"1\" class=\"dataframe\">\n",
       "  <thead>\n",
       "    <tr style=\"text-align: right;\">\n",
       "      <th></th>\n",
       "      <th>BTC price</th>\n",
       "      <th>BTC bin</th>\n",
       "      <th>tweet</th>\n",
       "      <th>YearMonth</th>\n",
       "      <th>YearMonth_0</th>\n",
       "      <th>m_num</th>\n",
       "    </tr>\n",
       "    <tr>\n",
       "      <th>datetime</th>\n",
       "      <th></th>\n",
       "      <th></th>\n",
       "      <th></th>\n",
       "      <th></th>\n",
       "      <th></th>\n",
       "      <th></th>\n",
       "    </tr>\n",
       "  </thead>\n",
       "  <tbody>\n",
       "    <tr>\n",
       "      <th>2016-12-31</th>\n",
       "      <td>959.879875</td>\n",
       "      <td>1</td>\n",
       "      <td>markets update massive gains year-to-date acro...</td>\n",
       "      <td>2016.12</td>\n",
       "      <td>201612</td>\n",
       "      <td>1</td>\n",
       "    </tr>\n",
       "    <tr>\n",
       "      <th>2016-12-31</th>\n",
       "      <td>959.879875</td>\n",
       "      <td>1</td>\n",
       "      <td>#bitcoin's architect #satoshi engineered thing...</td>\n",
       "      <td>2016.12</td>\n",
       "      <td>201612</td>\n",
       "      <td>1</td>\n",
       "    </tr>\n",
       "    <tr>\n",
       "      <th>2016-12-31</th>\n",
       "      <td>959.879875</td>\n",
       "      <td>1</td>\n",
       "      <td>markets update massive gains year-to-date acro...</td>\n",
       "      <td>2016.12</td>\n",
       "      <td>201612</td>\n",
       "      <td>1</td>\n",
       "    </tr>\n",
       "    <tr>\n",
       "      <th>2016-12-31</th>\n",
       "      <td>959.879875</td>\n",
       "      <td>1</td>\n",
       "      <td>apache tear pendant gemstone found faceted fas...</td>\n",
       "      <td>2016.12</td>\n",
       "      <td>201612</td>\n",
       "      <td>1</td>\n",
       "    </tr>\n",
       "    <tr>\n",
       "      <th>2016-12-31</th>\n",
       "      <td>959.879875</td>\n",
       "      <td>1</td>\n",
       "      <td>guys we're waiting wrong new year today http:/...</td>\n",
       "      <td>2016.12</td>\n",
       "      <td>201612</td>\n",
       "      <td>1</td>\n",
       "    </tr>\n",
       "  </tbody>\n",
       "</table>\n",
       "</div>"
      ],
      "text/plain": [
       "             BTC price  BTC bin  \\\n",
       "datetime                          \n",
       "2016-12-31  959.879875        1   \n",
       "2016-12-31  959.879875        1   \n",
       "2016-12-31  959.879875        1   \n",
       "2016-12-31  959.879875        1   \n",
       "2016-12-31  959.879875        1   \n",
       "\n",
       "                                                        tweet  YearMonth  \\\n",
       "datetime                                                                   \n",
       "2016-12-31  markets update massive gains year-to-date acro...    2016.12   \n",
       "2016-12-31  #bitcoin's architect #satoshi engineered thing...    2016.12   \n",
       "2016-12-31  markets update massive gains year-to-date acro...    2016.12   \n",
       "2016-12-31  apache tear pendant gemstone found faceted fas...    2016.12   \n",
       "2016-12-31  guys we're waiting wrong new year today http:/...    2016.12   \n",
       "\n",
       "            YearMonth_0  m_num  \n",
       "datetime                        \n",
       "2016-12-31       201612      1  \n",
       "2016-12-31       201612      1  \n",
       "2016-12-31       201612      1  \n",
       "2016-12-31       201612      1  \n",
       "2016-12-31       201612      1  "
      ]
     },
     "execution_count": 61,
     "metadata": {},
     "output_type": "execute_result"
    }
   ],
   "source": [
    "bit_df.head()"
   ]
  },
  {
   "cell_type": "code",
   "execution_count": 62,
   "metadata": {},
   "outputs": [
    {
     "data": {
      "text/plain": [
       "(66060, 6)"
      ]
     },
     "execution_count": 62,
     "metadata": {},
     "output_type": "execute_result"
    }
   ],
   "source": [
    "bit_df.shape"
   ]
  },
  {
   "cell_type": "markdown",
   "metadata": {},
   "source": [
    "### Classifier"
   ]
  },
  {
   "cell_type": "markdown",
   "metadata": {},
   "source": [
    "#### Train test split"
   ]
  },
  {
   "cell_type": "code",
   "execution_count": 73,
   "metadata": {},
   "outputs": [],
   "source": [
    "X_train = bit_df.loc[bit_df.m_num < 13].tweet\n",
    "y_train = bit_df.loc[bit_df.m_num < 13]['BTC bin']\n",
    "\n",
    "X_test = bit_df.loc[bit_df.m_num >= 13].tweet\n",
    "y_test = bit_df.loc[bit_df.m_num >= 13]['BTC bin']"
   ]
  },
  {
   "cell_type": "code",
   "execution_count": 74,
   "metadata": {},
   "outputs": [],
   "source": [
    "from sklearn.feature_extraction.text import TfidfVectorizer\n",
    "v = TfidfVectorizer()"
   ]
  },
  {
   "cell_type": "code",
   "execution_count": 75,
   "metadata": {},
   "outputs": [],
   "source": [
    "X_train_tfidf = v.fit_transform(X_train)"
   ]
  },
  {
   "cell_type": "code",
   "execution_count": 76,
   "metadata": {
    "scrolled": true
   },
   "outputs": [
    {
     "data": {
      "text/plain": [
       "<46714x45249 sparse matrix of type '<class 'numpy.float64'>'\n",
       "\twith 631743 stored elements in Compressed Sparse Row format>"
      ]
     },
     "execution_count": 76,
     "metadata": {},
     "output_type": "execute_result"
    }
   ],
   "source": [
    "X_train_tfidf"
   ]
  },
  {
   "cell_type": "code",
   "execution_count": 77,
   "metadata": {},
   "outputs": [
    {
     "data": {
      "text/plain": [
       "<1x45249 sparse matrix of type '<class 'numpy.float64'>'\n",
       "\twith 11 stored elements in Compressed Sparse Row format>"
      ]
     },
     "execution_count": 77,
     "metadata": {},
     "output_type": "execute_result"
    }
   ],
   "source": [
    "X_train_tfidf[-1]"
   ]
  },
  {
   "cell_type": "markdown",
   "metadata": {},
   "source": [
    "#### Logreg"
   ]
  },
  {
   "cell_type": "code",
   "execution_count": 78,
   "metadata": {},
   "outputs": [],
   "source": [
    "from sklearn.linear_model import LogisticRegression"
   ]
  },
  {
   "cell_type": "code",
   "execution_count": 79,
   "metadata": {},
   "outputs": [],
   "source": [
    "logreg = LogisticRegression()"
   ]
  },
  {
   "cell_type": "code",
   "execution_count": 80,
   "metadata": {
    "scrolled": false
   },
   "outputs": [
    {
     "data": {
      "text/plain": [
       "LogisticRegression(C=1.0, class_weight=None, dual=False, fit_intercept=True,\n",
       "          intercept_scaling=1, max_iter=100, multi_class='ovr', n_jobs=1,\n",
       "          penalty='l2', random_state=None, solver='liblinear', tol=0.0001,\n",
       "          verbose=0, warm_start=False)"
      ]
     },
     "execution_count": 80,
     "metadata": {},
     "output_type": "execute_result"
    }
   ],
   "source": [
    "logreg.fit(X_train_tfidf, y_train)"
   ]
  },
  {
   "cell_type": "code",
   "execution_count": 81,
   "metadata": {},
   "outputs": [],
   "source": [
    "from sklearn.metrics import accuracy_score"
   ]
  },
  {
   "cell_type": "code",
   "execution_count": 82,
   "metadata": {},
   "outputs": [],
   "source": [
    "X_test_tfidf0 = v.transform(X_test)\n"
   ]
  },
  {
   "cell_type": "code",
   "execution_count": 83,
   "metadata": {},
   "outputs": [],
   "source": [
    "pred = logreg.predict(X_test_tfidf0)"
   ]
  },
  {
   "cell_type": "code",
   "execution_count": 84,
   "metadata": {
    "scrolled": true
   },
   "outputs": [
    {
     "data": {
      "text/plain": [
       "0.6610151969399359"
      ]
     },
     "execution_count": 84,
     "metadata": {},
     "output_type": "execute_result"
    }
   ],
   "source": [
    "accuracy_score(pred, y_test)"
   ]
  },
  {
   "cell_type": "markdown",
   "metadata": {},
   "source": [
    "#### Random forest"
   ]
  },
  {
   "cell_type": "code",
   "execution_count": 85,
   "metadata": {},
   "outputs": [],
   "source": [
    "from sklearn.ensemble import RandomForestClassifier"
   ]
  },
  {
   "cell_type": "code",
   "execution_count": 86,
   "metadata": {},
   "outputs": [],
   "source": [
    "rfc = RandomForestClassifier()"
   ]
  },
  {
   "cell_type": "code",
   "execution_count": 87,
   "metadata": {},
   "outputs": [
    {
     "data": {
      "text/plain": [
       "RandomForestClassifier(bootstrap=True, class_weight=None, criterion='gini',\n",
       "            max_depth=None, max_features='auto', max_leaf_nodes=None,\n",
       "            min_impurity_decrease=0.0, min_impurity_split=None,\n",
       "            min_samples_leaf=1, min_samples_split=2,\n",
       "            min_weight_fraction_leaf=0.0, n_estimators=10, n_jobs=1,\n",
       "            oob_score=False, random_state=None, verbose=0,\n",
       "            warm_start=False)"
      ]
     },
     "execution_count": 87,
     "metadata": {},
     "output_type": "execute_result"
    }
   ],
   "source": [
    "rfc.fit(X_train_tfidf, y_train)"
   ]
  },
  {
   "cell_type": "code",
   "execution_count": 88,
   "metadata": {},
   "outputs": [
    {
     "data": {
      "text/plain": [
       "0.6082394293393983"
      ]
     },
     "execution_count": 88,
     "metadata": {},
     "output_type": "execute_result"
    }
   ],
   "source": [
    "pred_rfc = rfc.predict(X_test_tfidf0)\n",
    "accuracy_score(pred_rfc, y_test)"
   ]
  },
  {
   "cell_type": "markdown",
   "metadata": {},
   "source": [
    "#### Fine tuning"
   ]
  },
  {
   "cell_type": "code",
   "execution_count": 89,
   "metadata": {
    "scrolled": true
   },
   "outputs": [
    {
     "name": "stdout",
     "output_type": "stream",
     "text": [
      "{'n_estimators': [10, 17, 25, 33, 41, 48, 56, 64, 72, 80], 'max_features': ['auto', 'sqrt'], 'max_depth': [5, 10, 15, 20, 25, 30, 35, 40, 45, None], 'bootstrap': [True, False]}\n"
     ]
    }
   ],
   "source": [
    "# Number of trees in random forest\n",
    "n_estimators = [int(x) for x in np.linspace(start = 10, stop = 80, num = 10)]\n",
    "# Number of features to consider at every split\n",
    "max_features = ['auto', 'sqrt']\n",
    "# Maximum number of levels in tree\n",
    "max_depth = [int(x) for x in np.linspace(5, 45, num = 9)]\n",
    "max_depth.append(None)\n",
    "# Minimum number of samples required to split a node\n",
    "min_samples_split = [2, 5, 10]\n",
    "# Minimum number of samples required at each leaf node\n",
    "min_samples_leaf = [1, 2, 4]\n",
    "# Method of selecting samples for training each tree\n",
    "bootstrap = [True, False]\n",
    "# Create the random grid\n",
    "random_grid = {'n_estimators': n_estimators,\n",
    "               'max_features': max_features,\n",
    "               'max_depth': max_depth,\n",
    "              \n",
    "               'bootstrap': bootstrap}\n",
    "print(random_grid)"
   ]
  },
  {
   "cell_type": "code",
   "execution_count": 93,
   "metadata": {},
   "outputs": [],
   "source": [
    "from sklearn.model_selection import RandomizedSearchCV"
   ]
  },
  {
   "cell_type": "code",
   "execution_count": 94,
   "metadata": {},
   "outputs": [
    {
     "name": "stdout",
     "output_type": "stream",
     "text": [
      "Fitting 3 folds for each of 100 candidates, totalling 300 fits\n"
     ]
    },
    {
     "name": "stderr",
     "output_type": "stream",
     "text": [
      "[Parallel(n_jobs=-1)]: Done  25 tasks      | elapsed:   36.6s\n",
      "[Parallel(n_jobs=-1)]: Done 146 tasks      | elapsed: 19.7min\n",
      "[Parallel(n_jobs=-1)]: Done 300 out of 300 | elapsed: 34.2min finished\n"
     ]
    },
    {
     "name": "stdout",
     "output_type": "stream",
     "text": [
      "Wall time: 34min 11s\n"
     ]
    }
   ],
   "source": [
    "%%time\n",
    "rf = RandomForestClassifier()\n",
    "# Random search of parameters, using 3 fold cross validation, \n",
    "# search across 100 different combinations, and use all available cores\n",
    "rf_random = RandomizedSearchCV(estimator = rf, param_distributions = random_grid, n_iter = 100, cv = 3, verbose=2, random_state=42, n_jobs = -1)\n",
    "# Fit the random search model\n",
    "rf_random.fit(X_train_tfidf, y_train)"
   ]
  },
  {
   "cell_type": "code",
   "execution_count": 95,
   "metadata": {},
   "outputs": [
    {
     "data": {
      "text/plain": [
       "{'bootstrap': False,\n",
       " 'max_depth': 5,\n",
       " 'max_features': 'auto',\n",
       " 'n_estimators': 80}"
      ]
     },
     "execution_count": 95,
     "metadata": {},
     "output_type": "execute_result"
    }
   ],
   "source": [
    "rf_random.best_params_"
   ]
  },
  {
   "cell_type": "code",
   "execution_count": 96,
   "metadata": {},
   "outputs": [],
   "source": [
    "pred_orders_rf = rf_random.predict(X_test_tfidf0)"
   ]
  },
  {
   "cell_type": "code",
   "execution_count": 97,
   "metadata": {},
   "outputs": [
    {
     "data": {
      "text/plain": [
       "0.7007133257520934"
      ]
     },
     "execution_count": 97,
     "metadata": {},
     "output_type": "execute_result"
    }
   ],
   "source": [
    "accuracy_score(pred_orders_rf, y_test)"
   ]
  },
  {
   "cell_type": "code",
   "execution_count": null,
   "metadata": {},
   "outputs": [],
   "source": []
  },
  {
   "cell_type": "code",
   "execution_count": null,
   "metadata": {},
   "outputs": [],
   "source": []
  }
 ],
 "metadata": {
  "anaconda-cloud": {},
  "kernelspec": {
   "display_name": "Python 3",
   "language": "python",
   "name": "python3"
  },
  "language_info": {
   "codemirror_mode": {
    "name": "ipython",
    "version": 3
   },
   "file_extension": ".py",
   "mimetype": "text/x-python",
   "name": "python",
   "nbconvert_exporter": "python",
   "pygments_lexer": "ipython3",
   "version": "3.6.4"
  }
 },
 "nbformat": 4,
 "nbformat_minor": 2
}
